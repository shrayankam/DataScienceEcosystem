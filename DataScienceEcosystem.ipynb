{
 "cells": [
  {
   "cell_type": "markdown",
   "id": "b4b2a3b4-4e6b-44f2-93d6-3f1f58e9d7d2",
   "metadata": {},
   "source": [
    "#  Data Science Tools and Ecosystem"
   ]
  },
  {
   "cell_type": "markdown",
   "id": "b24f16b1-93f4-4b17-9827-7a9fc86c010b",
   "metadata": {},
   "source": [
    "In this notebook, Data Science Tools and Ecosystem are summarized."
   ]
  },
  {
   "cell_type": "markdown",
   "id": "f420ec80-c7a9-4563-97c1-bb979fa40411",
   "metadata": {},
   "source": [
    "Some of the popular languages that Data Scientists use are:\n",
    "1. Python\n",
    "2. R\n",
    "3. SQL\n"
   ]
  },
  {
   "cell_type": "markdown",
   "id": "306327fb-9e9a-40d5-a2d2-0f3ff2c2700a",
   "metadata": {},
   "source": [
    "Some of the commonly used libraries used by Data Scientists include:\r",
    "1. Numpy\n",
    "2. Pandas\n",
    "3. Matplotlib\n",
    "4. Seaborn"
   ]
  },
  {
   "cell_type": "markdown",
   "id": "103bb041-25a3-4a3d-bd39-9edeff18e476",
   "metadata": {},
   "source": [
    "|Data Science Tools | \r\n",
    "|:--------:|\r\n",
    "|MongoDB    |\r",
    "2Apache Spark   |\r",
    "TensorFloww 3    |"
   ]
  },
  {
   "cell_type": "markdown",
   "id": "a190126e-1f44-4863-adf3-364530df79b3",
   "metadata": {},
   "source": [
    "### Below are a few examples of evaluating arithmetic expressions in Python"
   ]
  },
  {
   "cell_type": "code",
   "execution_count": 4,
   "id": "0fd5383f-c7db-4c84-a7ba-70749b63a5a5",
   "metadata": {},
   "outputs": [
    {
     "data": {
      "text/plain": [
       "17"
      ]
     },
     "execution_count": 4,
     "metadata": {},
     "output_type": "execute_result"
    }
   ],
   "source": [
    "#This a simple arithmetic expression to mutiply then add integers.\n",
    "(3*4)+5"
   ]
  },
  {
   "cell_type": "markdown",
   "id": "aada5ccb-b266-4d1d-8c4e-4336231ee022",
   "metadata": {},
   "source": [
    "### This will convert 200 into minutes"
   ]
  },
  {
   "cell_type": "code",
   "execution_count": 6,
   "id": "143ff566-fe81-4e79-975e-ef1890a0dca3",
   "metadata": {},
   "outputs": [
    {
     "data": {
      "text/plain": [
       "3.3333333333333335"
      ]
     },
     "execution_count": 6,
     "metadata": {},
     "output_type": "execute_result"
    }
   ],
   "source": [
    "200/60"
   ]
  },
  {
   "cell_type": "markdown",
   "id": "b08e7d71-3543-404e-a87f-b73422d6d370",
   "metadata": {},
   "source": [
    "**Objective**\n",
    "- Python\n",
    "- SQL\n",
    "- R"
   ]
  },
  {
   "cell_type": "markdown",
   "id": "08624205-aa53-4323-a96e-af3a998e078e",
   "metadata": {},
   "source": [
    "## Author\n",
    "Shrayanka Mallick"
   ]
  },
  {
   "cell_type": "code",
   "execution_count": null,
   "id": "64ff9545-c84f-4b85-9e8b-32eb44726818",
   "metadata": {},
   "outputs": [],
   "source": []
  }
 ],
 "metadata": {
  "kernelspec": {
   "display_name": "Python 3 (ipykernel)",
   "language": "python",
   "name": "python3"
  },
  "language_info": {
   "codemirror_mode": {
    "name": "ipython",
    "version": 3
   },
   "file_extension": ".py",
   "mimetype": "text/x-python",
   "name": "python",
   "nbconvert_exporter": "python",
   "pygments_lexer": "ipython3",
   "version": "3.11.7"
  }
 },
 "nbformat": 4,
 "nbformat_minor": 5
}
